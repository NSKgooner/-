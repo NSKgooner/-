{
 "cells": [
  {
   "cell_type": "markdown",
   "metadata": {},
   "source": [
    "# Дзен (не Яндекс)\n",
    "\n",
    "#### Beautiful is better than ugly.\n",
    "\n",
    "#### Simple is better than complex.\n",
    "\n",
    "#### Now is better than never.\n",
    "#### Although never is often better than *right* now.\n",
    "\n",
    "##### https://www.python.org/dev/peps/pep-0020/"
   ]
  },
  {
   "cell_type": "markdown",
   "metadata": {},
   "source": [
    "# Переменные"
   ]
  },
  {
   "cell_type": "code",
   "execution_count": null,
   "metadata": {},
   "outputs": [],
   "source": [
    "a = 0\n",
    "b = 1\n",
    "print(a, b)"
   ]
  },
  {
   "cell_type": "code",
   "execution_count": null,
   "metadata": {},
   "outputs": [],
   "source": [
    "a,b = 0,1\n",
    "print(a,b)"
   ]
  },
  {
   "cell_type": "markdown",
   "metadata": {},
   "source": [
    "# Отступы"
   ]
  },
  {
   "cell_type": "code",
   "execution_count": null,
   "metadata": {},
   "outputs": [],
   "source": [
    "if 2*2==4:\n",
    "print(\"Хайп на мл прошел\")"
   ]
  },
  {
   "cell_type": "code",
   "execution_count": null,
   "metadata": {
    "scrolled": true
   },
   "outputs": [],
   "source": [
    "if 2*2 == 4:\n",
    "    print(\"Data scientist is the sexiest job of the 21st century\")"
   ]
  },
  {
   "cell_type": "markdown",
   "metadata": {},
   "source": [
    "# Условия"
   ]
  },
  {
   "cell_type": "code",
   "execution_count": null,
   "metadata": {},
   "outputs": [],
   "source": [
    "raining = True\n",
    "print(\"Все на пляж!\" if not raining else \"Все на ШИФТ!\")"
   ]
  },
  {
   "cell_type": "markdown",
   "metadata": {},
   "source": [
    "# Списки"
   ]
  },
  {
   "cell_type": "code",
   "execution_count": null,
   "metadata": {},
   "outputs": [],
   "source": [
    "tutors_list = [\"Андрей\", \"Алексей\", \"Гоша\"]\n",
    "tutors_list.append(\"Илья\")\n",
    "tutors_list.remove(\"Гоша\")\n",
    "print(tutors_list)"
   ]
  },
  {
   "cell_type": "markdown",
   "metadata": {},
   "source": [
    "# Итерации по спискам"
   ]
  },
  {
   "cell_type": "code",
   "execution_count": null,
   "metadata": {},
   "outputs": [],
   "source": [
    "for i in range(len(tutors_list)):\n",
    "    print(tutors_list[i])"
   ]
  },
  {
   "cell_type": "code",
   "execution_count": null,
   "metadata": {},
   "outputs": [],
   "source": [
    "for tutor in tutors_list:\n",
    "    print(tutor)"
   ]
  },
  {
   "cell_type": "markdown",
   "metadata": {},
   "source": [
    "# Кортежи"
   ]
  },
  {
   "cell_type": "code",
   "execution_count": null,
   "metadata": {},
   "outputs": [],
   "source": [
    "tutors_tuple = (\"Андрей\", \"Алексей\", \"Гоша\")\n",
    "tutors_tuple[2] = \"Илья\" "
   ]
  },
  {
   "cell_type": "markdown",
   "metadata": {},
   "source": [
    "# Множества"
   ]
  },
  {
   "cell_type": "code",
   "execution_count": null,
   "metadata": {},
   "outputs": [],
   "source": [
    "tutors_set = {\"Андрей\", \"Алексей\", \"Гоша\"}\n",
    "print(tutors_set.pop())\n",
    "print(tutors_set.pop())"
   ]
  },
  {
   "cell_type": "markdown",
   "metadata": {},
   "source": [
    "# Словари"
   ]
  },
  {
   "cell_type": "code",
   "execution_count": null,
   "metadata": {},
   "outputs": [],
   "source": [
    "tutors_dict = {\"Андрей\":1, \"Алексей\":2, \"Гоша\":3}\n",
    "print(tutors_dict[\"Андрей\"])\n",
    "print(tutors_dict[\"Павел Дуров\"])"
   ]
  },
  {
   "cell_type": "code",
   "execution_count": null,
   "metadata": {},
   "outputs": [],
   "source": [
    "print(tutors_dict.get(\"Илья\", \"Такого куратора нет\"))"
   ]
  },
  {
   "cell_type": "code",
   "execution_count": null,
   "metadata": {},
   "outputs": [],
   "source": [
    "for name, number in tutors_dict.items():\n",
    "    print(name, number)"
   ]
  },
  {
   "cell_type": "markdown",
   "metadata": {},
   "source": [
    "# Функции"
   ]
  },
  {
   "cell_type": "code",
   "execution_count": null,
   "metadata": {},
   "outputs": [],
   "source": [
    "from random import choice\n",
    "\n",
    "def get_curator(tutors_list):\n",
    "    return choice(tutors_list)"
   ]
  },
  {
   "cell_type": "code",
   "execution_count": null,
   "metadata": {},
   "outputs": [],
   "source": [
    "print(get_curator(tutors_list))"
   ]
  },
  {
   "cell_type": "code",
   "execution_count": null,
   "metadata": {},
   "outputs": [],
   "source": [
    "def get_wrong_curator(tutors_list, name = \"Павел Дуров\"):\n",
    "    try:\n",
    "        return choice()\n",
    "    except TypeError:\n",
    "        return name"
   ]
  },
  {
   "cell_type": "code",
   "execution_count": null,
   "metadata": {},
   "outputs": [],
   "source": [
    "print(get_wrong_curator(tutors_list))"
   ]
  },
  {
   "cell_type": "markdown",
   "metadata": {},
   "source": [
    "# Модуль collections\n",
    "#### https://docs.python.org/3/library/collections.html"
   ]
  },
  {
   "cell_type": "code",
   "execution_count": null,
   "metadata": {},
   "outputs": [],
   "source": [
    "from collections import Counter\n",
    "\n",
    "skills = ['Python', 'C++', 'Python', 'Java', 'Python']\n",
    "c = Counter(skills)\n",
    "print(c)\n",
    "print(c.most_common(2))"
   ]
  },
  {
   "cell_type": "code",
   "execution_count": null,
   "metadata": {},
   "outputs": [],
   "source": [
    "skills = list(set(skills))\n",
    "randomized_skills = [choice(skills) for _ in range(10)]\n",
    "print(Counter(randomized_skills))"
   ]
  },
  {
   "cell_type": "code",
   "execution_count": null,
   "metadata": {},
   "outputs": [],
   "source": [
    "{i:str(i) for i in range(10)}"
   ]
  },
  {
   "cell_type": "code",
   "execution_count": null,
   "metadata": {},
   "outputs": [],
   "source": [
    "from collections import defaultdict\n",
    "defdict = defaultdict(str)\n",
    "for i in range(10):\n",
    "    defdict[i] = str(i)\n",
    "print(defdict)"
   ]
  },
  {
   "cell_type": "code",
   "execution_count": null,
   "metadata": {},
   "outputs": [],
   "source": [
    "from collections import namedtuple\n",
    "Curator = namedtuple('Curator', 'name age gender')\n",
    "print(Curator('Алексей', 21, 'male'))"
   ]
  },
  {
   "cell_type": "code",
   "execution_count": null,
   "metadata": {},
   "outputs": [],
   "source": [
    "from collections import deque\n",
    "d = deque([1,2,3])\n",
    "d.appendleft(0)\n",
    "d.append(5)\n",
    "d.pop()\n",
    "d.append(4)\n",
    "print(d)"
   ]
  },
  {
   "cell_type": "markdown",
   "metadata": {},
   "source": [
    "# Строки"
   ]
  },
  {
   "cell_type": "code",
   "execution_count": null,
   "metadata": {},
   "outputs": [],
   "source": [
    "name = \"Павел\"\n",
    "surname = \"Дуров\"\n",
    "product = \"Telegram\"\n",
    "print(f\"{name} {surname} разработал {product}\")"
   ]
  },
  {
   "cell_type": "markdown",
   "metadata": {},
   "source": [
    "# Файлы"
   ]
  },
  {
   "cell_type": "code",
   "execution_count": null,
   "metadata": {},
   "outputs": [],
   "source": [
    "!echo \"Hello, world\" > \"welcome.txt\"\n",
    "\n",
    "def open_file(filename = \"welcome.txt\"):\n",
    "    with open(\"welcome.txt\", \"r\") as file:\n",
    "        data = file.read()\n",
    "    return data\n",
    "print(open_file())"
   ]
  },
  {
   "cell_type": "code",
   "execution_count": null,
   "metadata": {},
   "outputs": [],
   "source": [
    "def update_file(filename = \"welcome.txt\"):\n",
    "    with open(\"welcome.txt\", \"a\") as file:\n",
    "        file.write(\"Yet another string\")"
   ]
  },
  {
   "cell_type": "code",
   "execution_count": null,
   "metadata": {},
   "outputs": [],
   "source": [
    "update_file()\n",
    "print(open_file())"
   ]
  },
  {
   "cell_type": "markdown",
   "metadata": {},
   "source": [
    "# Генераторы"
   ]
  },
  {
   "cell_type": "code",
   "execution_count": null,
   "metadata": {},
   "outputs": [],
   "source": [
    "def my_candy_generator():\n",
    "    candies = [\"lollipop\", \"chocolate_bar\", \"marshmallow\"]\n",
    "    for candy in candies:\n",
    "        yield candy"
   ]
  },
  {
   "cell_type": "code",
   "execution_count": null,
   "metadata": {},
   "outputs": [],
   "source": [
    "for c in my_candy_generator():\n",
    "    print(c)"
   ]
  },
  {
   "cell_type": "code",
   "execution_count": 2,
   "metadata": {},
   "outputs": [
    {
     "name": "stdout",
     "output_type": "stream",
     "text": [
      "Traceback (most recent call last):\r\n",
      "  File \"/home/alexkryu4kov/anaconda3/bin/jupyter-nbconvert\", line 11, in <module>\r\n",
      "    load_entry_point('nbconvert==5.2.1', 'console_scripts', 'jupyter-nbconvert')()\r\n",
      "  File \"/home/alexkryu4kov/anaconda3/lib/python2.7/site-packages/pkg_resources/__init__.py\", line 489, in load_entry_point\r\n",
      "    return get_distribution(dist).load_entry_point(group, name)\r\n",
      "  File \"/home/alexkryu4kov/anaconda3/lib/python2.7/site-packages/pkg_resources/__init__.py\", line 2793, in load_entry_point\r\n",
      "    return ep.load()\r\n",
      "  File \"/home/alexkryu4kov/anaconda3/lib/python2.7/site-packages/pkg_resources/__init__.py\", line 2411, in load\r\n",
      "    return self.resolve()\r\n",
      "  File \"/home/alexkryu4kov/anaconda3/lib/python2.7/site-packages/pkg_resources/__init__.py\", line 2417, in resolve\r\n",
      "    module = __import__(self.module_name, fromlist=['__name__'], level=0)\r\n",
      "  File \"/home/alexkryu4kov/anaconda3/lib/python2.7/site-packages/nbconvert/__init__.py\", line 4, in <module>\r\n",
      "    from .exporters import *\r\n",
      "  File \"/home/alexkryu4kov/anaconda3/lib/python2.7/site-packages/nbconvert/exporters/__init__.py\", line 3, in <module>\r\n",
      "    from .exporter_locator import export_by_name\r\n",
      "  File \"/home/alexkryu4kov/anaconda3/lib/python2.7/site-packages/nbconvert/exporters/exporter_locator.py\", line 12, in <module>\r\n",
      "    from .templateexporter import TemplateExporter\r\n",
      "  File \"/home/alexkryu4kov/anaconda3/lib/python2.7/site-packages/nbconvert/exporters/templateexporter.py\", line 21, in <module>\r\n",
      "    from nbconvert import filters\r\n",
      "  File \"/home/alexkryu4kov/anaconda3/lib/python2.7/site-packages/nbconvert/filters/__init__.py\", line 6, in <module>\r\n",
      "    from .markdown import *\r\n",
      "  File \"/home/alexkryu4kov/anaconda3/lib/python2.7/site-packages/nbconvert/filters/markdown.py\", line 13, in <module>\r\n",
      "    from .markdown_mistune import markdown2html_mistune\r\n",
      "  File \"/home/alexkryu4kov/anaconda3/lib/python2.7/site-packages/nbconvert/filters/markdown_mistune.py\", line 29, in <module>\r\n",
      "    class MathBlockLexer(mistune.BlockLexer):\r\n",
      "  File \"/home/alexkryu4kov/anaconda3/lib/python2.7/site-packages/nbconvert/filters/markdown_mistune.py\", line 30, in MathBlockLexer\r\n",
      "    default_rules = ['block_math', 'latex_environment'] + mistune.BlockLexer.default_rules\r\n",
      "AttributeError: type object 'BlockLexer' has no attribute 'default_rules'\r\n"
     ]
    }
   ],
   "source": [
    "!jupyter nbconvert Python_шифт.ipynb --to html"
   ]
  },
  {
   "cell_type": "code",
   "execution_count": null,
   "metadata": {},
   "outputs": [],
   "source": []
  }
 ],
 "metadata": {
  "kernelspec": {
   "display_name": "Python 2",
   "language": "python",
   "name": "python2"
  },
  "language_info": {
   "codemirror_mode": {
    "name": "ipython",
    "version": 2
   },
   "file_extension": ".py",
   "mimetype": "text/x-python",
   "name": "python",
   "nbconvert_exporter": "python",
   "pygments_lexer": "ipython2",
   "version": "2.7.15"
  }
 },
 "nbformat": 4,
 "nbformat_minor": 2
}
